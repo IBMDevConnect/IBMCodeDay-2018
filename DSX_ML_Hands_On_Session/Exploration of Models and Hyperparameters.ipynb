{
 "cells": [
  {
   "cell_type": "markdown",
   "metadata": {},
   "source": [
    "<center><h1> Predict heart failure with Watson Machine Learning</h1></center>\n",
    "![alt text](https://www.cdc.gov/dhdsp/images/heart_failure.jpg \"Heart failure\")\n",
    "<p>This notebook contains steps and code to create a predictive model to predict heart failure and then deploy that model to Watson Machine Learning so it can be used in an application.</p>\n",
    "## Learning Goals\n",
    "The learning goals of this notebook are:\n",
    "* Load a CSV file into the  Object Storage Service linked to your Data Science Experience \n",
    "* Create an Apache® Spark machine learning model\n",
    "* Train and evaluate a model\n",
    "* Persist a model in a Watson Machine Learning repository\n",
    "\n",
    "## 1. Setup\n",
    "\n",
    "Before you use the sample code in this notebook, you must perform the following setup tasks:\n",
    "* Create a Watson Machine Learning Service instance (a free plan is offered) and associate it with your project\n",
    "* Upload heart failure  data to the Object Store service that is part of your data Science Experience trial\n"
   ]
  },
  {
   "cell_type": "code",
   "execution_count": null,
   "metadata": {},
   "outputs": [],
   "source": [
    "# IMPORTANT Follow the lab instructions to insert authentication and access info here to get access to the data used in this notebook\n",
    "import ibmos2spark\n",
    "\n",
    "# @hidden_cell\n",
    "\n",
    "\n",
    "from pyspark.sql import SparkSession"
   ]
  },
  {
   "cell_type": "markdown",
   "metadata": {},
   "source": [
    "## 2. Load and explore data\n",
    "<p>In this section you will load the data as an Apache® Spark DataFrame and perform a basic exploration.</p>\n",
    "\n",
    "<p>Load the data to the Spark DataFrame from your associated Object Storage instance.</p>"
   ]
  },
  {
   "cell_type": "code",
   "execution_count": null,
   "metadata": {},
   "outputs": [],
   "source": [
    "spark = SparkSession.builder.getOrCreate()\n",
    "\n",
    "# Read data file and create a Data Frame\n",
    "df_data = spark.read\\\n",
    "  .format('org.apache.spark.sql.execution.datasources.csv.CSVFileFormat')\\\n",
    "  .option('header', 'true')\\\n",
    "  .option('inferSchema', 'true')\\\n",
    "  .load(cos.url('patientdataV6.csv', 'watsonmlintegrationdc6181d94d83494798e5ba1e23e00d1d'))"
   ]
  },
  {
   "cell_type": "markdown",
   "metadata": {},
   "source": [
    "Explore the loaded data by using the following Apache® Spark DataFrame methods:\n",
    "* print schema\n",
    "* print top ten records\n",
    "* count all records"
   ]
  },
  {
   "cell_type": "code",
   "execution_count": null,
   "metadata": {},
   "outputs": [],
   "source": [
    "df_data.printSchema()"
   ]
  },
  {
   "cell_type": "markdown",
   "metadata": {},
   "source": [
    "As you can see, the data contains ten  fields. The  HEARTFAILURE field is the one we would like to predict (label)."
   ]
  },
  {
   "cell_type": "code",
   "execution_count": null,
   "metadata": {},
   "outputs": [],
   "source": [
    "df_data.show()"
   ]
  },
  {
   "cell_type": "code",
   "execution_count": null,
   "metadata": {},
   "outputs": [],
   "source": [
    "df_data.describe().show()"
   ]
  },
  {
   "cell_type": "code",
   "execution_count": null,
   "metadata": {},
   "outputs": [],
   "source": [
    "df_data.count()"
   ]
  },
  {
   "cell_type": "markdown",
   "metadata": {},
   "source": [
    "As you can see, the data set contains 10800 records."
   ]
  },
  {
   "cell_type": "markdown",
   "metadata": {},
   "source": [
    "## 3 Interactive Visualizations w/PixieDust"
   ]
  },
  {
   "cell_type": "code",
   "execution_count": null,
   "metadata": {},
   "outputs": [],
   "source": [
    "# To confirm you have the latest version of PixieDust on your system, run this cell\n",
    "!pip install --user --upgrade pixiedust"
   ]
  },
  {
   "cell_type": "markdown",
   "metadata": {},
   "source": [
    "If indicated by the installer, restart the kernel and rerun the notebook until here and continue with the workshop."
   ]
  },
  {
   "cell_type": "code",
   "execution_count": null,
   "metadata": {},
   "outputs": [],
   "source": [
    "import pixiedust"
   ]
  },
  {
   "cell_type": "markdown",
   "metadata": {},
   "source": [
    "### Simple visualization using bar charts\n",
    "With PixieDust display(), you can visually explore the loaded data using built-in charts, such as, bar charts, line charts, scatter plots, or maps.\n",
    "To explore a data set: choose the desired chart type from the drop down, configure chart options, configure display options."
   ]
  },
  {
   "cell_type": "code",
   "execution_count": null,
   "metadata": {
    "pixiedust": {
     "displayParams": {
      "aggregation": "AVG",
      "chartsize": "65",
      "handlerId": "scatterPlot",
      "keyFields": "AVGHEARTBEATSPERMIN",
      "kind": "kde",
      "mpld3": "false",
      "rendererId": "seaborn",
      "rowCount": "500",
      "title": "Explore",
      "valueFields": "PALPITATIONSPERDAY"
     }
    },
    "scrolled": true
   },
   "outputs": [],
   "source": [
    "display(df_data)"
   ]
  },
  {
   "cell_type": "markdown",
   "metadata": {},
   "source": [
    "## 4. Create an Apache® Spark machine learning model\n",
    "In this section you will learn how to prepare data, create and train an Apache® Spark machine learning model.\n",
    "\n",
    "### 4.1: Prepare data\n",
    "In this subsection you will split your data into: train and  test  data sets."
   ]
  },
  {
   "cell_type": "code",
   "execution_count": null,
   "metadata": {},
   "outputs": [],
   "source": [
    "split_data = df_data.randomSplit([0.8, 0.20], 24)\n",
    "train_data = split_data[0]\n",
    "test_data = split_data[1]\n",
    "\n",
    "print \"Number of training records: \" + str(train_data.count())\n",
    "print \"Number of testing records : \" + str(test_data.count())"
   ]
  },
  {
   "cell_type": "markdown",
   "metadata": {},
   "source": [
    "As you can see our data has been successfully split into two data sets:\n",
    "* The train data set, which is the largest group, is used for training.\n",
    "* The test data set will be used for model evaluation and is used to test the assumptions of the model.\n",
    "\n",
    "### 4.2: Create pipeline and train a model\n",
    "In this section you will create an Apache® Spark machine learning pipeline and then train the model.\n",
    "In the first step you need to import the Apache® Spark machine learning packages that will be needed in the subsequent steps.\n",
    "\n",
    "A sequence of data processing is called a _data pipeline_.  Each step in the pipeline processes the data and passes the result to the next step in the pipeline, this allows you to transform and fit your model with the raw input data."
   ]
  },
  {
   "cell_type": "code",
   "execution_count": null,
   "metadata": {},
   "outputs": [],
   "source": [
    "from pyspark.ml.feature import StringIndexer, IndexToString, VectorAssembler\n",
    "from pyspark.ml.classification import RandomForestClassifier, LogisticRegression, NaiveBayes\n",
    "from pyspark.ml.classification import MultilayerPerceptronClassifier\n",
    "from pyspark.ml.evaluation import MulticlassClassificationEvaluator\n",
    "\n",
    "from pyspark.ml import Pipeline, Model"
   ]
  },
  {
   "cell_type": "markdown",
   "metadata": {},
   "source": [
    "In the following step, convert all the string fields to numeric ones by using the StringIndexer transformer."
   ]
  },
  {
   "cell_type": "code",
   "execution_count": null,
   "metadata": {},
   "outputs": [],
   "source": [
    "stringIndexer_label = StringIndexer(inputCol=\"HEARTFAILURE\", outputCol=\"label\").fit(df_data)\n",
    "stringIndexer_sex = StringIndexer(inputCol=\"SEX\", outputCol=\"SEX_IX\")\n",
    "stringIndexer_famhist = StringIndexer(inputCol=\"FAMILYHISTORY\", outputCol=\"FAMILYHISTORY_IX\")\n",
    "stringIndexer_smoker = StringIndexer(inputCol=\"SMOKERLAST5YRS\", outputCol=\"SMOKERLAST5YRS_IX\")"
   ]
  },
  {
   "cell_type": "markdown",
   "metadata": {},
   "source": [
    "\n",
    "In the following step, create a feature vector by combining all features together."
   ]
  },
  {
   "cell_type": "code",
   "execution_count": null,
   "metadata": {},
   "outputs": [],
   "source": [
    "vectorAssembler_features = VectorAssembler(inputCols=[\"AVGHEARTBEATSPERMIN\",\"PALPITATIONSPERDAY\",\"CHOLESTEROL\",\"BMI\",\"AGE\",\"SEX_IX\",\"FAMILYHISTORY_IX\",\"SMOKERLAST5YRS_IX\",\"EXERCISEMINPERWEEK\"], outputCol=\"features\")"
   ]
  },
  {
   "cell_type": "markdown",
   "metadata": {},
   "source": [
    "Next, define estimators you want to use for classification. Random Forest is used in the following example."
   ]
  },
  {
   "cell_type": "code",
   "execution_count": null,
   "metadata": {},
   "outputs": [],
   "source": [
    "rf = RandomForestClassifier(labelCol=\"label\", featuresCol=\"features\")\n",
    "#lr = LogisticRegression(maxIter=10, regParam=0.3, elasticNetParam=0.8)\n",
    "lr = LogisticRegression()\n",
    "\n",
    "nb = NaiveBayes(smoothing=1.0)"
   ]
  },
  {
   "cell_type": "markdown",
   "metadata": {},
   "source": [
    "Finally, indexed labels back to original labels."
   ]
  },
  {
   "cell_type": "code",
   "execution_count": null,
   "metadata": {},
   "outputs": [],
   "source": [
    "labelConverter = IndexToString(inputCol=\"prediction\", outputCol=\"predictedLabel\", labels=stringIndexer_label.labels)"
   ]
  },
  {
   "cell_type": "code",
   "execution_count": null,
   "metadata": {},
   "outputs": [],
   "source": [
    "transform_df_pipeline = Pipeline(stages=[stringIndexer_label, stringIndexer_sex, stringIndexer_famhist, stringIndexer_smoker, vectorAssembler_features])\n",
    "transformed_df = transform_df_pipeline.fit(df_data).transform(df_data)"
   ]
  },
  {
   "cell_type": "markdown",
   "metadata": {},
   "source": [
    "Let's build the pipeline now. A pipeline consists of transformers and an estimator."
   ]
  },
  {
   "cell_type": "code",
   "execution_count": null,
   "metadata": {},
   "outputs": [],
   "source": [
    " \n",
    "pipeline_rf = Pipeline(stages=[stringIndexer_label, stringIndexer_sex, stringIndexer_famhist, stringIndexer_smoker, vectorAssembler_features, rf, labelConverter])\n",
    "# pipeline_rf = Pipeline(stages=[stringIndexer_label, stringIndexer_sex, stringIndexer_famhist, stringIndexer_smoker, vectorAssembler_features, lr, labelConverter])\n",
    "\n",
    "\n",
    "pipeline1 = Pipeline(stages=[stringIndexer_label, stringIndexer_sex, \n",
    "                             stringIndexer_famhist, stringIndexer_smoker, \n",
    "                             vectorAssembler_features, rf, labelConverter])\n",
    "m1Name = \"Random Forest Default\"\n",
    "\n",
    "pipeline2 = Pipeline(stages=[stringIndexer_label, stringIndexer_sex, \n",
    "                             stringIndexer_famhist, stringIndexer_smoker, \n",
    "                             vectorAssembler_features, lr, labelConverter])\n",
    "m2Name = \"Logistic Regression (first try)\"\n",
    "\n",
    "pipeline3 = Pipeline(stages=[stringIndexer_label, stringIndexer_sex, \n",
    "                             stringIndexer_famhist, stringIndexer_smoker, \n",
    "                             vectorAssembler_features, nb, labelConverter])\n",
    "m3Name = \"Naive Bayes\"\n",
    "\n"
   ]
  },
  {
   "cell_type": "markdown",
   "metadata": {},
   "source": [
    "Now, you can train your Random Forest model by using the previously defined **pipeline** and **training data**."
   ]
  },
  {
   "cell_type": "code",
   "execution_count": null,
   "metadata": {},
   "outputs": [],
   "source": [
    "#model_rf = pipeline_rf.fit(train_data)\n",
    "\n",
    "model1 = pipeline1.fit(train_data)\n",
    "model2 = pipeline2.fit(train_data)\n",
    "model3 = pipeline3.fit(train_data)"
   ]
  },
  {
   "cell_type": "markdown",
   "metadata": {},
   "source": [
    "You can check your **model accuracy** now. To evaluate the model, use **test data**."
   ]
  },
  {
   "cell_type": "code",
   "execution_count": null,
   "metadata": {},
   "outputs": [],
   "source": [
    "from pyspark.sql.types import Row\n",
    "import numpy as np\n",
    "\n",
    "def getCMEntries(threshold):\n",
    "    newThresholdDF = spark.sql(\"select label, p1, prediction as oldPrediction,\" \n",
    "          \" case when p1 > \" + str(threshold) + \" then 1.0 else 0.0 end as newPrediction\"\n",
    "          \" from inputToThreshold\")\n",
    "\n",
    "    newThresholdDF.registerTempTable(\"newThreshold\")\n",
    "\n",
    "    # begin exercise +++++++++++++++++++++++++++++++++ \n",
    "    tpA = spark.sql(\"select label, oldPrediction, newPrediction \" \n",
    "          \" from newThreshold where label = 1 and newprediction = 1 \")\n",
    "\n",
    "    fpA = spark.sql(\"select label, oldPrediction, newPrediction \" \n",
    "          \" from newThreshold where label = 0 and newprediction = 1 \")\n",
    "\n",
    "    fnA = spark.sql(\"select label, oldPrediction, newPrediction \" \n",
    "          \" from newThreshold where label = 1 and newprediction = 0 \")\n",
    "\n",
    "    tnA = spark.sql(\"select label, oldPrediction newPrediction \" \n",
    "          \" from newThreshold where label = 0 and newprediction = 0  \")\n",
    "\n",
    "    # end exercise +++++++++++++++++++++++++++++++++ \n",
    "\n",
    "    return (tpA.count(), fpA.count(), fnA.count(), tnA.count())\n",
    "\n",
    "\n"
   ]
  },
  {
   "cell_type": "markdown",
   "metadata": {},
   "source": [
    "## Compute Metrics as a Function of Threshold\n",
    "\n",
    "It may be the case that the default threshold of 0.5 for classification is not ideal.  Let's explore this possiblity, and use some standard metrics to evaluate model fitness.\n",
    "\n",
    "True Positive Rate:\n",
    "\n",
    "$TPR = TP/(FP + FN) = TP/P$\n",
    "\n",
    "False Positive Rate:\n",
    "$FPR = FP/N$\n",
    "\n",
    "Matthews Correlation Coefficient:\n",
    "$\\text{MCC} = \\frac{ TP \\times TN - FP \\times FN } {\\sqrt{ (TP + FP) ( TP + FN ) ( TN + FP ) ( TN + FN ) } }$\n",
    "\n",
    "\n",
    "Area Under Curve (AUC):\n",
    "\n",
    "Using the trapezoid rule for each discrete element, the Area Under the Curve (AUC) for the Receiver Operating Characteristic (ROC) is:\n",
    "\n",
    "$\\int_{x_0}^{x_N} f(x)\\, dx = \\sum_{i=0}^{N}(x_{i+1}-x_i) \\cdot \\left[\\frac{f(x_{i+1}) + f(x_{i})}{2} \\right]$\n",
    "\n",
    "Use this formula to compute the AUC for the ROC, which is a plot of TPR (y axis) vs FPR (x axis).\n"
   ]
  },
  {
   "cell_type": "code",
   "execution_count": null,
   "metadata": {},
   "outputs": [],
   "source": [
    "import numpy as np\n",
    "numBins = 10 \n",
    "thresholds = np.array(range(0, numBins + 1))*1.0/numBins"
   ]
  },
  {
   "cell_type": "code",
   "execution_count": null,
   "metadata": {},
   "outputs": [],
   "source": [
    "def getModelThresholdStats(model_df, data):\n",
    "    tp = np.array([i for i in range(0, numBins + 1 )])\n",
    "    fp = np.array([i for i in range(0, numBins + 1 )])\n",
    "    fn = np.array([i for i in range(0, numBins + 1 )])\n",
    "    tn = np.array([i for i in range(0, numBins + 1 )])\n",
    "\n",
    "\n",
    "#generate dataframe to be used in thresholding:\n",
    "    predictionsForROC = model_df.transform(data)\n",
    "    predictionsForROC.registerTempTable(\"predictions\")\n",
    "    columnsForCM = spark.sql(\"select probability, prediction, label from predictions\")\n",
    "    extractedProbability = columnsForCM.rdd.map(lambda x: Row(p1 = np.asscalar(x[0][1]), prediction=x[1] , label=x[2])).toDF()\n",
    "    extractedProbability.registerTempTable(\"inputToThreshold\")\n",
    "\n",
    "# get the total number of positives and negatives in dataset:\n",
    "    # begin exercise +++++++++++++++++++++++++++++++++ \n",
    "    p = spark.sql(\"select label from predictions where label = 1\").count()\n",
    "    n = spark.sql(\"select label from predictions where label = 0\").count()\n",
    "\n",
    "# We know the number of true positives, etc. at the threshold edges:\n",
    "    (tp[0],fp[0],fn[0],tn[0]) = (p, n, 0, 0)\n",
    "    (tp[-1],fp[-1],fn[-1],tn[-1]) = (0, 0, p, n)\n",
    "    # end exercise +++++++++++++++++++++++++++++++++    \n",
    "    \n",
    "    for (i, threshold) in zip(range(0, numBins + 1),thresholds):\n",
    "        print(i, threshold)\n",
    "        if (i>0 and i<numBins): \n",
    "            (tp[i],fp[i],fn[i],tn[i]) = getCMEntries(threshold)\n",
    "        print(tp[i],fp[i],fn[i],tn[i])\n",
    "\n",
    "# begin exercise +++++++++++++++++++++++++++++++++ \n",
    "    tpr = tp*1.0/(tp + fn)\n",
    "    fpr = fp*1.0/(fp + tn)\n",
    "    mcc = (tp*tn - fp*fn)*1.0 / np.sqrt((tp + fp)*(tp + fn)*(tn + fp)*(tn + fn))\n",
    "    accThreshold = (tp + tn)*1.0/(p + n)  # accuracy as a function of threshold\n",
    "    auc = - np.array([(fpr[i+1]-fpr[i])*0.5*(tpr[i+1]+tpr[i]) for i in range(0,numBins)]).sum()    \n",
    "# end exercise +++++++++++++++++++++++++++++++++\n",
    "    return (tpr, fpr, mcc, accThreshold, auc)"
   ]
  },
  {
   "cell_type": "code",
   "execution_count": null,
   "metadata": {},
   "outputs": [],
   "source": [
    "print(\"getting stats for \" + m1Name + \":  train\")\n",
    "(tpr1,fpr1,mcc1,acc1,auc1) = getModelThresholdStats(model1, train_data)\n",
    "print(\"getting stats for \" + m1Name + \":  test\")\n",
    "(tpr1Test,fpr1Test,mcc1Test,acc1Test,auc1Test) = getModelThresholdStats(model1, test_data)\n",
    "\n",
    "print(\"getting stats for \" + m2Name)\n",
    "(tpr2,fpr2,mcc2,acc2,auc2) = getModelThresholdStats(model2, train_data)\n",
    "print(\"getting stats for \" + m1Name + \":  test\")\n",
    "(tpr2Test,fpr2Test,mcc2Test,acc2Test,auc2Test) = getModelThresholdStats(model2, test_data)\n",
    "\n",
    "print(\"getting stats for \" + m3Name + \":  train\")\n",
    "(tpr3,fpr3,mcc3,acc3,auc3) = getModelThresholdStats(model3, train_data)\n",
    "print(\"getting stats for \" + m3Name + \":  test\")\n",
    "(tpr3Test,fpr3Test,mcc3Test,acc3Test,auc3Test) = getModelThresholdStats(model3, test_data)"
   ]
  },
  {
   "cell_type": "code",
   "execution_count": null,
   "metadata": {},
   "outputs": [],
   "source": [
    "%matplotlib inline\n",
    "import matplotlib.pyplot as plt\n",
    "plt.rcParams['figure.figsize'] = (15,5)\n",
    "\n",
    "plt.subplot(121)\n",
    "plt.plot( thresholds, mcc1, '-o')\n",
    "plt.plot(thresholds, mcc2, '-o')\n",
    "plt.plot(thresholds, mcc3, '-o')\n",
    "plt.title(\"Matthews Correlation Coefficient\")\n",
    "plt.xlabel(\"Threshold\")\n",
    "plt.xlabel(\"MCC\")\n",
    "plt.ylim(0,0.75)\n",
    "plt.legend([m1Name + \": AUC (train) = \"+ str(round(auc1,3)),\n",
    "            m2Name + \": AUC (train) = \"+ str(round(auc2,3)),\n",
    "            m3Name + \": AUC (train) = \"+ str(round(auc3,3))])\n",
    "\n",
    "plt.subplot(122)\n",
    "plt.plot( thresholds, mcc1Test, '-o')\n",
    "plt.plot( thresholds, mcc2Test, '-o')\n",
    "plt.plot( thresholds, mcc3Test, '-o')\n",
    "plt.title(\"Matthews Correlation Coefficient\")\n",
    "plt.xlabel(\"Threshold\")\n",
    "plt.xlabel(\"MCC\")\n",
    "plt.ylim(0,0.75)\n",
    "plt.legend([m1Name + \": AUC (test) = \"+ str(round(auc1Test,3)),\n",
    "            m2Name + \": AUC (test) = \"+ str(round(auc2Test,3)),\n",
    "            m3Name + \": AUC (test) = \"+ str(round(auc3Test,3))])\n",
    "#plt.figure(figzsize=(18,16))\n",
    "plt.show()\n",
    "\n",
    "plt.subplot(121)\n",
    "plt.plot(thresholds, acc1,'-o')\n",
    "plt.plot(thresholds, acc2,'-o')\n",
    "plt.plot(thresholds, acc3,'-o')\n",
    "plt.title(\"Accuracy\")\n",
    "plt.ylabel(\"Accuracy\")\n",
    "plt.xlabel(\"Threshold\")\n",
    "plt.ylim(0,1.0)\n",
    "plt.subplot(122)\n",
    "plt.plot(thresholds, acc1Test,'-o')\n",
    "plt.plot(thresholds, acc2Test,'-o')\n",
    "plt.plot(thresholds, acc3Test,'-o')\n",
    "plt.title(\"Accuracy\")\n",
    "plt.ylabel(\"Accuracy\")\n",
    "plt.xlabel(\"Threshold\")\n",
    "plt.ylim(0,1.0)\n",
    "\n",
    "plt.show()\n",
    "\n",
    "plt.subplot(121)\n",
    "plt.title(\"Receiver Operating Characteristic\")\n",
    "plt.plot(fpr1, tpr1,'-o')\n",
    "plt.plot(fpr2, tpr2,'-o')\n",
    "plt.plot(fpr3, tpr3,'-o')\n",
    "plt.ylabel(\"True Positive Rate\")\n",
    "plt.xlabel(\"False Positive Rate\")\n",
    "plt.subplot(122)\n",
    "plt.title(\"Receiver Operating Characteristic\")\n",
    "plt.plot(fpr1, tpr1Test,'-o')\n",
    "plt.plot(fpr2, tpr2Test,'-o')\n",
    "plt.plot(fpr3, tpr3Test,'-o')\n",
    "plt.ylabel(\"True Positive Rate\")\n",
    "plt.xlabel(\"False Positive Rate\")\n",
    "plt.show()"
   ]
  },
  {
   "cell_type": "markdown",
   "metadata": {},
   "source": [
    "You can tune your model now to achieve better accuracy. For simplicity of this example tuning section is omitted.\n",
    "## 5. Persist model\n",
    "In this section you will learn how to store your pipeline and model in Watson Machine Learning repository by using Python client libraries.\n",
    "First, you must import client libraries."
   ]
  },
  {
   "cell_type": "code",
   "execution_count": null,
   "metadata": {},
   "outputs": [],
   "source": [
    "from repository.mlrepositoryclient import MLRepositoryClient\n",
    "from repository.mlrepositoryartifact import MLRepositoryArtifact"
   ]
  },
  {
   "cell_type": "markdown",
   "metadata": {},
   "source": [
    "Authenticate to Watson Machine Learning service on Bluemix.\n",
    "\n",
    "## **STOP here !!!!:** \n",
    "Put authentication information (username and password)  from your instance of Watson Machine Learning service here."
   ]
  },
  {
   "cell_type": "code",
   "execution_count": null,
   "metadata": {},
   "outputs": [],
   "source": [
    "service_path = 'https://ibm-watson-ml.mybluemix.net'\n",
    "username = 'xxxxxxxxxxxx'\n",
    "password = 'xxxxxxxxxxxx'"
   ]
  },
  {
   "cell_type": "markdown",
   "metadata": {},
   "source": [
    "**Tip:** service_path, username and password can be found on Service Credentials tab of the Watson Machine Learning service instance created in Bluemix."
   ]
  },
  {
   "cell_type": "code",
   "execution_count": null,
   "metadata": {},
   "outputs": [],
   "source": [
    "ml_repository_client = MLRepositoryClient(service_path)\n",
    "ml_repository_client.authorize(username, password)"
   ]
  },
  {
   "cell_type": "markdown",
   "metadata": {},
   "source": [
    "Create model artifact (abstraction layer)."
   ]
  },
  {
   "cell_type": "code",
   "execution_count": null,
   "metadata": {},
   "outputs": [],
   "source": [
    "model_artifact = MLRepositoryArtifact(model_rf, training_data=train_data, name=\"Heart Failure Prediction Model\")"
   ]
  },
  {
   "cell_type": "markdown",
   "metadata": {},
   "source": [
    "**Tip:** The MLRepositoryArtifact method expects a trained model object, training data, and a model name. (It is this model name that is displayed by the Watson Machine Learning service).\n",
    "## 5.1: Save pipeline and model¶\n",
    "In this subsection you will learn how to save pipeline and model artifacts to your Watson Machine Learning instance."
   ]
  },
  {
   "cell_type": "code",
   "execution_count": null,
   "metadata": {},
   "outputs": [],
   "source": [
    "saved_model = ml_repository_client.models.save(model_artifact)"
   ]
  },
  {
   "cell_type": "markdown",
   "metadata": {},
   "source": [
    "Get saved model metadata from Watson Machine Learning.\n",
    "**Tip:** Use *meta.availableProps* to get the list of available props."
   ]
  },
  {
   "cell_type": "code",
   "execution_count": null,
   "metadata": {},
   "outputs": [],
   "source": [
    "saved_model.meta.available_props()"
   ]
  },
  {
   "cell_type": "code",
   "execution_count": null,
   "metadata": {},
   "outputs": [],
   "source": [
    "print \"modelType: \" + saved_model.meta.prop(\"modelType\")\n",
    "print \"trainingDataSchema: \" + str(saved_model.meta.prop(\"trainingDataSchema\"))\n",
    "print \"creationTime: \" + str(saved_model.meta.prop(\"creationTime\"))\n",
    "print \"modelVersionHref: \" + saved_model.meta.prop(\"modelVersionHref\")\n",
    "print \"label: \" + saved_model.meta.prop(\"label\")"
   ]
  },
  {
   "cell_type": "markdown",
   "metadata": {},
   "source": [
    "\n",
    "## 5.2 Load model to verify that it was saved correctly\n",
    "You can load your model  to make sure that it was saved  correctly."
   ]
  },
  {
   "cell_type": "code",
   "execution_count": null,
   "metadata": {},
   "outputs": [],
   "source": [
    "loadedModelArtifact = ml_repository_client.models.get(saved_model.uid)"
   ]
  },
  {
   "cell_type": "markdown",
   "metadata": {},
   "source": [
    "Print the  model name to make sure that model artifact has been loaded correctly."
   ]
  },
  {
   "cell_type": "code",
   "execution_count": null,
   "metadata": {},
   "outputs": [],
   "source": [
    "print str(loadedModelArtifact.name)"
   ]
  },
  {
   "cell_type": "markdown",
   "metadata": {},
   "source": [
    "Congratulations. You've sucessfully created a predictive model and saved it in the Watson Machine Learning service. You can now switch to the Watson Machine Learning console to deploy the model and then test it in application.\n"
   ]
  },
  {
   "cell_type": "markdown",
   "metadata": {},
   "source": [
    "## 6.0 Accessing Watson ML Models and Deployments through API\n",
    "Instead of jumping from your notebook into a web browser manage your model and delopment through a set of APIs\n"
   ]
  },
  {
   "cell_type": "markdown",
   "metadata": {},
   "source": [
    "Recap of deploying an existing ML model through using a Python SDK\n",
    "\n",
    "`pip install watson-machine-learning-client`\n",
    "\n",
    "[SDK Documentation](https://watson-ml-staging-libs.mybluemix.net/repository-python/index.html)"
   ]
  },
  {
   "cell_type": "code",
   "execution_count": null,
   "metadata": {},
   "outputs": [],
   "source": [
    "#Import Python WatsonML Repository SDK\n",
    "from repository.mlrepositoryclient import MLRepositoryClient\n",
    "from repository.mlrepositoryartifact import MLRepositoryArtifact\n",
    "\n",
    "#Specify your username and password credientials for Watson ML\n",
    "service_path = 'https://ibm-watson-ml.mybluemix.net'\n",
    "username = 'xxxxxxxxxx'\n",
    "password = 'xxxxxxxxxx'\n",
    "\n",
    "#Authenticate\n",
    "ml_repository_client = MLRepositoryClient(service_path)\n",
    "ml_repository_client.authorize(username, password)\n",
    "\n",
    "#Deploy a new model.  I renamed the existing model as it has already been created above\n",
    "model_artifact = MLRepositoryArtifact(model_rf, training_data=train_data, name=\"Heart Failure Prediction Model V2\")"
   ]
  },
  {
   "cell_type": "markdown",
   "metadata": {},
   "source": [
    "### 6.1 Get the Watson ML API Token\n",
    "The Watson ML API authenticates all requests through a token, start by requesting the token from our Watson ML Service."
   ]
  },
  {
   "cell_type": "code",
   "execution_count": null,
   "metadata": {},
   "outputs": [],
   "source": [
    "url = 'https://ibm-watson-ml.mybluemix.net'\n",
    "username = 'xxxxxxxxxx'\n",
    "password = 'xxxxxxxxxx'\n",
    "instance_id = \"xxxxxxxxxxx\""
   ]
  },
  {
   "cell_type": "code",
   "execution_count": null,
   "metadata": {},
   "outputs": [],
   "source": [
    "import json\n",
    "import requests\n",
    "from base64 import b64encode\n",
    "\n",
    "token_url = url + \"/v3/identity/token\"\n",
    "\n",
    "headers = {'authorization': \"Basic {}\".format(b64encode(username + \":\" + password).decode(\"ascii\"))}\n",
    "\n",
    "response = requests.request(\"GET\", token_url, headers=headers)\n",
    "\n",
    "watson_ml_token = json.loads(response.text)['token']\n",
    "print(watson_ml_token)"
   ]
  },
  {
   "cell_type": "markdown",
   "metadata": {},
   "source": [
    "### 6.2 Preview currenly published models"
   ]
  },
  {
   "cell_type": "code",
   "execution_count": null,
   "metadata": {},
   "outputs": [],
   "source": [
    "model_url = url + \"/v3/wml_instances/\" + instance_id + \"/published_models\"\n",
    "\n",
    "headers = {'authorization': 'Bearer ' + watson_ml_token }\n",
    "response = requests.request(\"GET\", model_url, headers=headers)\n",
    "\n",
    "published_models = json.loads(response.text)\n",
    "print(json.dumps(published_models, indent=2))"
   ]
  },
  {
   "cell_type": "markdown",
   "metadata": {},
   "source": [
    "Read the details of any returned models"
   ]
  },
  {
   "cell_type": "code",
   "execution_count": null,
   "metadata": {},
   "outputs": [],
   "source": [
    "print('{} model(s) are available in your Watson ML Service'.format(published_models['count']))\n",
    "for model in published_models['resources']:\n",
    "    print('\\t- name:        {}'.format(model['entity']['name']))\n",
    "    print('\\t  model_id:    {}'.format(model['metadata']['guid']))\n",
    "    print('\\t  deployments: {}'.format(model['entity']['deployments']['count']))"
   ]
  },
  {
   "cell_type": "markdown",
   "metadata": {},
   "source": [
    "Create a new deployment of the Model"
   ]
  },
  {
   "cell_type": "code",
   "execution_count": null,
   "metadata": {},
   "outputs": [],
   "source": [
    "#model_id = 'fceec826-db51-4217-b15b-15ff635fb30e'\n",
    "model_id = '904c9abc-9460-4f6e-a5a8-20b9579f0913'\n",
    "\n",
    "deployment_url = url + \"/v3/wml_instances/\" + instance_id + \"/published_models/\" + model_id + \"/deployments\"\n",
    "\n",
    "payload = \"{\\\"name\\\": \\\"Heart Failure Prediction Model Deployment\\\", \\\"description\\\": \\\"First deployment of Heart Failure Prediction Model\\\", \\\"type\\\": \\\"online\\\"}\"\n",
    "headers = {'authorization': 'Bearer ' + watson_ml_token, 'content-type': \"application/json\" }\n",
    "\n",
    "response = requests.request(\"POST\", deployment_url, data=payload, headers=headers)\n",
    "\n",
    "print(response.text)"
   ]
  },
  {
   "cell_type": "code",
   "execution_count": null,
   "metadata": {},
   "outputs": [],
   "source": [
    "deployment = json.loads(response.text)\n",
    "\n",
    "print('Model {} deployed.'.format(model_id))\n",
    "print('\\tname: {}'.format(deployment['entity']['name']))\n",
    "print('\\tdeployment_id: {}'.format(deployment['metadata']['guid']))\n",
    "print('\\tstatus: {}'.format(deployment['entity']['status']))\n",
    "print('\\tscoring url: {}'.format(deployment['entity']['scoring_url']))"
   ]
  },
  {
   "cell_type": "markdown",
   "metadata": {},
   "source": [
    "Monitor the status of deployment"
   ]
  },
  {
   "cell_type": "code",
   "execution_count": null,
   "metadata": {},
   "outputs": [],
   "source": [
    "#deployment_id = \"eaa399a5-ce94-42cf-889e-0b9ee5f57642\"\n",
    "deployment_id = \"6d38f6d8-efce-4159-b4e0-faa20df57f65\"\n",
    "deployment_details_url = url + \"/v3/wml_instances/\" + instance_id + \"/published_models/\" + model_id + \"/deployments/\" + deployment_id\n",
    "\n",
    "headers = {'authorization': 'Bearer ' + watson_ml_token, 'content-type': \"application/json\" }\n",
    "\n",
    "response = requests.request(\"GET\", deployment_url, headers=headers)\n",
    "print(response.text)"
   ]
  },
  {
   "cell_type": "code",
   "execution_count": null,
   "metadata": {},
   "outputs": [],
   "source": [
    "deployment_details = json.loads(response.text)\n",
    "\n",
    "for resources in deployment_details['resources']:\n",
    "    print('name: {}'.format(resources['entity']['name']))\n",
    "    print('status: {}'.format(resources['entity']['status']))\n",
    "    print('scoring url: {}'.format(resources['entity']['scoring_url']))"
   ]
  },
  {
   "cell_type": "markdown",
   "metadata": {},
   "source": [
    "## 6.3 Invoke prediction model deployment\n",
    "Define a method to call scoring url. Replace the **scoring_url** in the method below with the scoring_url returned from above."
   ]
  },
  {
   "cell_type": "code",
   "execution_count": null,
   "metadata": {},
   "outputs": [],
   "source": [
    "def get_prediction_ml(ahb, ppd, chol, bmi, age, sex, fh, smoker, exercise_minutes ):\n",
    "    scoring_url = 'https://ibm-watson-ml.mybluemix.net/v3/wml_instances/024597e5-3b8c-43a1-a2b9-c3295a07bb2f/published_models/' + model_id + '/deployments/' + deployment_id + '/online'\n",
    "    scoring_payload = { \"fields\":[\"AVGHEARTBEATSPERMIN\",\"PALPITATIONSPERDAY\",\"CHOLESTEROL\",\"BMI\",\"AGE\",\"SEX\",\"FAMILYHISTORY\",\"SMOKERLAST5YRS\",\"EXERCISEMINPERWEEK\"],\"values\":[[ahb, ppd, chol, bmi, age, sex, fh, smoker, exercise_minutes]]}\n",
    "    header = {'authorization': 'Bearer ' + watson_ml_token, 'content-type': \"application/json\" }\n",
    "    scoring_response = requests.post(scoring_url, json=scoring_payload, headers=header)\n",
    "    return (json.loads(scoring_response.text).get(\"values\")[0][18])"
   ]
  },
  {
   "cell_type": "markdown",
   "metadata": {},
   "source": [
    "### Call get_prediction_ml method exercising our prediction model"
   ]
  },
  {
   "cell_type": "code",
   "execution_count": null,
   "metadata": {},
   "outputs": [],
   "source": [
    "print('Is a 44 year old female that smokes with a low BMI at risk of Heart Failure?: {}'.format(get_prediction_ml(100,85,242,24,44,\"F\",\"Y\",\"Y\",125)))"
   ]
  },
  {
   "cell_type": "code",
   "execution_count": null,
   "metadata": {},
   "outputs": [],
   "source": []
  }
 ],
 "metadata": {
  "celltoolbar": "Raw Cell Format",
  "kernelspec": {
   "display_name": "Python 2 with Spark 2.1",
   "language": "python",
   "name": "python2-spark21"
  },
  "language_info": {
   "codemirror_mode": {
    "name": "ipython",
    "version": 2
   },
   "file_extension": ".py",
   "mimetype": "text/x-python",
   "name": "python",
   "nbconvert_exporter": "python",
   "pygments_lexer": "ipython2",
   "version": "2.7.11"
  }
 },
 "nbformat": 4,
 "nbformat_minor": 1
}
